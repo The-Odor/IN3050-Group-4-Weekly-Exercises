{
 "cells": [
  {
   "cell_type": "markdown",
   "metadata": {},
   "source": [
    "# IN3050/IN4050 - Week 3\n",
    "## Representations"
   ]
  },
  {
   "cell_type": "markdown",
   "metadata": {},
   "source": [
    "### 1. ![Naming_Question](EA_Terms.png)"
   ]
  },
  {
   "cell_type": "markdown",
   "metadata": {},
   "source": [
    "Name the terms shown in the picture above."
   ]
  },
  {
   "cell_type": "code",
   "execution_count": 5,
   "metadata": {},
   "outputs": [],
   "source": [
    "# Add your solution here\n",
    "# A: Locus (location)\n",
    "\n",
    "# B: Allele (value, the thing that alternates)\n",
    "\n",
    "# C: Gene (actual element, the gene)\n",
    "\n",
    "# D: Genotype (Operational representation, the genes (plural))\n",
    "\n",
    "# E: Phenotype (Abstract/emergent/observable representation, the actual phenomena)"
   ]
  },
  {
   "cell_type": "markdown",
   "metadata": {},
   "source": [
    "### 2. Mention some of the most common representations of genomes."
   ]
  },
  {
   "cell_type": "markdown",
   "metadata": {},
   "source": [
    "# Add your solution here\n",
    "1: Array of numbers (binary, ints or floats)\n",
    "2: Permutation\n"
   ]
  },
  {
   "cell_type": "markdown",
   "metadata": {},
   "source": [
    "### 3. Perform a mutation operation on the representations given below.\n",
    "\n",
    "binary = $[1, 0, 1, 1]$;\n",
    "integer = $[4, 2, 4, 1]$;\n",
    "real_valued = $[2.53, 1.42, 3.14, 1.68]$;\n",
    "permutation = $[3, 4, 1, 2]$"
   ]
  },
  {
   "cell_type": "code",
   "execution_count": 6,
   "metadata": {},
   "outputs": [
    {
     "name": "stdout",
     "output_type": "stream",
     "text": [
      "[1, 1, 1, 1]\n",
      "[1, 2, 4, 3]\n",
      "[1.912129599653067, 1.42, 4.359764230841908, 0.8280003455940921]\n",
      "[4, 3, 1, 2]\n"
     ]
    }
   ],
   "source": [
    "import numpy as np\n",
    "\n",
    "binary = [1,0,1,1]\n",
    "integer = [4,2,4,1]\n",
    "real_valued = [2.53, 1.42, 3.14, 1.68]\n",
    "permutation = [3, 4, 1, 2]\n",
    "\n",
    "# Binary mutation with 50% trigger chance, flipping the bit:\n",
    "for i in range(len(binary)):\n",
    "    if np.random.uniform(0,1) < 0.5:\n",
    "        binary[i] = (binary[i]-1) * (-1)\n",
    "\n",
    "# Integer mutation with 50% trigger chance, choosing a random integer within range(5):\n",
    "for i in range(len(integer)):\n",
    "    if np.random.uniform(0,1) < 0.5:\n",
    "        integer[i] = np.random.randint(5)\n",
    "\n",
    "# Float (real valued) mutation with 50% trigger chance, uniformly choosing a random float within range(5):\n",
    "for i in range(len(real_valued)):\n",
    "    if np.random.uniform(0,1) < 0.5:\n",
    "        real_valued[i] = np.random.uniform(0, 5)\n",
    "\n",
    "# Permutation mutation with 50% trigger change, swapping two neighbouring genes\n",
    "for i in range(len(permutation)-1):\n",
    "    if np.random.uniform(0,1) < 0.5:\n",
    "        permutation[i], permutation[i+1] = permutation[i+1], permutation[i]\n",
    "\n",
    "\n",
    "print(binary)\n",
    "print(integer)\n",
    "print(real_valued)\n",
    "print(permutation)"
   ]
  },
  {
   "cell_type": "markdown",
   "metadata": {},
   "source": [
    "### 4. Given the sequences (2,4,7,1,3,6,8,9,5) and (5,9,8,6,2,4,1,3,7). Implement these algorithms to create a new pair of solutions: "
   ]
  },
  {
   "cell_type": "markdown",
   "metadata": {},
   "source": [
    "#### a. Partially mapped crossover (PMX)"
   ]
  },
  {
   "cell_type": "code",
   "execution_count": 13,
   "metadata": {},
   "outputs": [
    {
     "name": "stdout",
     "output_type": "stream",
     "text": [
      "[5, 9, 4, 1, 3, 6, 8, 2, 7]\n"
     ]
    }
   ],
   "source": [
    "# Add your solution here\n",
    "def pmx(a, b, start, stop):\n",
    "    child = [None]*len(a)\n",
    "    \n",
    "    # Copy a slice from first paret:\n",
    "    child[start:stop] = a[start:stop]\n",
    "    # a = 3\n",
    "    # b = 6\n",
    "    # Map the same slice in parent b to child using indices from parent a:\n",
    "    for ind, x in enumerate(b[start:stop], start=start):\n",
    "        # ind += start\n",
    "        if x not in child:\n",
    "            while child[ind] != None:\n",
    "                a_val = a[ind]\n",
    "                ind = b.index(a_val)\n",
    "            child[ind] = x\n",
    "    # Copy over the rest from parent b\n",
    "    for ind, x in enumerate(child):\n",
    "        if x == None:\n",
    "            child[ind] = b[ind]\n",
    "            \n",
    "    return child\n",
    "\n",
    "\n",
    "def pmx_pair(a, b):\n",
    "    half = len(a) // 2\n",
    "    start = np.random.randint(0, len(a)-half)\n",
    "    stop = start+half\n",
    "    return pmx(a, b, start, stop), pmx(b, a, start, stop)\n",
    "\n",
    "\n",
    "a = (2,4,7,1,3,6,8,9,5)\n",
    "b = (5,9,8,6,2,4,1,3,7)\n",
    "\n",
    "print(pmx(a,b, 3,7))"
   ]
  },
  {
   "cell_type": "code",
   "execution_count": 8,
   "metadata": {},
   "outputs": [
    {
     "name": "stdout",
     "output_type": "stream",
     "text": [
      "pmc, ab: [5, 9, 4, 1, 3, 6, 8, 2, 7]\n",
      "pmx, ba: [3, 8, 7, 6, 2, 4, 1, 9, 5]\n",
      "order, ab: [2, 4, 7, 1, 3, 6, 5, 9, 8]\n",
      "cycle, ab: [2, 4, 7, 1, 3, 6, 8, 9, 5]\n",
      "cycle, ab: [5, 9, 8, 6, 2, 4, 1, 3, 7]\n",
      "cycle, ab: [0, 7, 2, 5, 4, 3, 6, 1, 8] a_ = [0, 1, 2, 3, 4, 5, 6, 7, 8]\n"
     ]
    }
   ],
   "source": [
    "# Add your solution here\n",
    "def pmx(a, b, start, stop):\n",
    "    child = [None]*len(a)\n",
    "    \n",
    "    # Copy a slice from first paret:\n",
    "    child[start:stop] = a[start:stop]\n",
    "    \n",
    "    # Map the same slice in parent b to child using indices from parent a:\n",
    "    for ind, x in enumerate(b[start:stop]):\n",
    "        ind += start\n",
    "        if x not in child:\n",
    "            while child[ind] != None:\n",
    "                ind = b.index(a[ind])\n",
    "            child[ind] = x\n",
    "    # Copy over the rest from parent b\n",
    "    for ind, x in enumerate(child):\n",
    "        if x == None:\n",
    "            child[ind] = b[ind]\n",
    "            \n",
    "    return child\n",
    "\n",
    "\n",
    "def pmx_pair(a, b):\n",
    "    half = len(a) // 2\n",
    "    start = np.random.randint(0, len(a)-half)\n",
    "    stop = start+half\n",
    "    return pmx(a, b, start, stop), pmx(b, a, start, stop)\n",
    "\n",
    "\n",
    "\n"
   ]
  },
  {
   "cell_type": "markdown",
   "metadata": {},
   "source": [
    "#### b. Order crossover"
   ]
  },
  {
   "cell_type": "code",
   "execution_count": 8,
   "metadata": {},
   "outputs": [],
   "source": [
    "def order_crossover(a, b, start, stop):\n",
    "    child = [None]*len(a)\n",
    "    \n",
    "    # Copy a slice from first parent:\n",
    "    child[start:stop] = a[start:stop]\n",
    "    \n",
    "    # Fill using order from second parent:\n",
    "    b_ind = stop\n",
    "    c_ind = stop\n",
    "    l = len(a)\n",
    "    while None in child:\n",
    "        if b[b_ind % l] not in child:\n",
    "            child[c_ind % l] = b[b_ind % l]\n",
    "            c_ind += 1\n",
    "        b_ind += 1\n",
    "        \n",
    "    return child\n",
    "\n",
    "def order_crossover_pair(a, b):\n",
    "    half = len(a) // 2\n",
    "    start = np.random.randint(0, len(a)-half)\n",
    "    stop = start + half\n",
    "    return order_crossover(a, b, start, stop), order_crossover(b, a, start, stop)"
   ]
  },
  {
   "cell_type": "markdown",
   "metadata": {},
   "source": [
    "#### c. Cycle crossover"
   ]
  },
  {
   "cell_type": "code",
   "execution_count": 9,
   "metadata": {},
   "outputs": [],
   "source": [
    "def cycle_crossover(a, b):\n",
    "    child = [None]*len(a)\n",
    "    while None in child:\n",
    "        ind = child.index(None)\n",
    "        indices = []\n",
    "        values = []\n",
    "        while ind not in indices:\n",
    "            val = a[ind]\n",
    "            indices.append(ind)\n",
    "            values.append(val)\n",
    "            b_val = b[ind]\n",
    "            ind = a.index(b_val)\n",
    "        for ind, val in zip(indices, values):\n",
    "            child[ind] = val\n",
    "        a, b = b, a\n",
    "        \n",
    "    return child\n",
    "\n",
    "def cycle_crossover_pair(a, b):\n",
    "    return cycle_crossover(a, b), cycle_crossover(b, a)"
   ]
  },
  {
   "cell_type": "markdown",
   "metadata": {},
   "source": [
    "#### Test crossovers"
   ]
  },
  {
   "cell_type": "code",
   "execution_count": null,
   "metadata": {},
   "outputs": [
    {
     "name": "stdout",
     "output_type": "stream",
     "text": [
      "pmc, ab: [5, 9, 4, 1, 3, 6, 8, 2, 7]\n",
      "pmx, ba: [3, 8, 7, 6, 2, 4, 1, 9, 5]\n",
      "order, ab: [2, 4, 7, 1, 3, 6, 5, 9, 8]\n",
      "cycle, ab: [2, 4, 7, 1, 3, 6, 8, 9, 5]\n",
      "cycle, ab: [5, 9, 8, 6, 2, 4, 1, 3, 7]\n",
      "cycle, ab: [0, 7, 2, 5, 4, 3, 6, 1, 8] a_ = [0, 1, 2, 3, 4, 5, 6, 7, 8]\n"
     ]
    }
   ],
   "source": [
    "a = (2,4,7,1,3,6,8,9,5)\n",
    "b = (5,9,8,6,2,4,1,3,7)\n",
    "\n",
    "print(\"pmc, ab:\", pmx(a,b, 3,7))\n",
    "print(\"pmx, ba:\", pmx(b,a, 3,7))\n",
    "\n",
    "print(\"order, ab:\", order_crossover(a,b,2,6) )\n",
    "\n",
    "print(\"cycle, ab:\", cycle_crossover(a,b))\n",
    "print(\"cycle, ab:\", cycle_crossover(b,a))\n",
    "a_ = range(9)\n",
    "print(\"cycle, ab:\", cycle_crossover(a_, a_[::-1]), f\"a_ = {list(a_)}\")\n",
    "# print(\"cycle, ab:\", cycle_crossover(b,a))\n",
    "\n",
    "\n",
    "# a = [2, 4, 7, 1, 3, 6, 8, 9, 5]\n",
    "# b = [5, 9, 8, 6, 2, 4, 1, 3, 7]\n",
    "# c, d = pmx_pair(a, b)\n",
    "# e, f = order_crossover_pair(a, b)\n",
    "# g, h = cycle_crossover_pair(a, b)\n",
    "# print(f\"Parents: {a} and {b}\")\n",
    "# print(f\"Children after PMX: {c} and {d}\")\n",
    "# print(f\"Children after Order Crossover: {e} and {f}\")\n",
    "# print(f\"Children after Cycle Crossover: {g} and {h}\")"
   ]
  },
  {
   "cell_type": "code",
   "execution_count": null,
   "metadata": {},
   "outputs": [],
   "source": []
  }
 ],
 "metadata": {
  "interpreter": {
   "hash": "b4ea2e9e509c40381270fdd26056bc8e8ecf23663db09fb140d732ecfcc5eb11"
  },
  "kernelspec": {
   "display_name": "Python 3.7.9 64-bit (windows store)",
   "name": "python3"
  },
  "language_info": {
   "codemirror_mode": {
    "name": "ipython",
    "version": 3
   },
   "file_extension": ".py",
   "mimetype": "text/x-python",
   "name": "python",
   "nbconvert_exporter": "python",
   "pygments_lexer": "ipython3",
   "version": "3.7.9"
  }
 },
 "nbformat": 4,
 "nbformat_minor": 2
}
