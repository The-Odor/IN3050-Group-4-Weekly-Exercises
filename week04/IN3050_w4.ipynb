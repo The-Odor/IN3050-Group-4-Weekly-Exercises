{
 "cells": [
  {
   "cell_type": "markdown",
   "metadata": {},
   "source": [
    "# IN3050/IN4050 - Week 4"
   ]
  },
  {
   "cell_type": "markdown",
   "metadata": {},
   "source": [
    "## Preserving Diversity\n",
    "\n",
    "### 1. Why do we want to preserve diversity?"
   ]
  },
  {
   "cell_type": "markdown",
   "metadata": {},
   "source": [
    "# Add your solution here\n",
    "Ensure exploration being done to a sufficient degree\n",
    "Diverse solutions give larger likelihood of having a solution applicable to a similar-but-different problem (such as a real-life application, as opposed to a simulated one)"
   ]
  },
  {
   "cell_type": "markdown",
   "metadata": {},
   "source": [
    "### 2. What are the main differences between explicit and implicit approaches?"
   ]
  },
  {
   "cell_type": "markdown",
   "metadata": {},
   "source": [
    "# Add your solution here\n",
    "Explicit: Explicitly refuse for individuals to be similar (such as by explicitly making similar individuals compete more against eachother, preserving units that are different)\n",
    "\n",
    "Implicit: Change something that indirectly makes it so that diversity is preserved (such as creating a structure of with sub-populations, where they are only allowed to compete with eachother, creating diversity _indirectly_)"
   ]
  },
  {
   "cell_type": "markdown",
   "metadata": {},
   "source": [
    "## Pareto Optimality\n",
    "\n",
    "![front_points_1 \\label{front_points_1}](front_points_1.png) <center>Figure 1 a</center>\n",
    "![front_points_2](front_points_2.png) <center>Figure 1 b</center>\n",
    "\n",
    "### 3. For figure a and b above, find the Pareto optimal set when\n",
    "* Minimizing both x and y\n",
    "* Minimizing x, maximizing y\n",
    "* Maximizing x, minimizing y\n",
    "* Maximizing both x and y"
   ]
  },
  {
   "cell_type": "markdown",
   "metadata": {},
   "source": [
    "# Add your solution here\n",
    "minimize both:  a={o1, o2, o5, o7}, b={o1}\n",
    "\n",
    "min(x), max(y): a={o1, o3}, b={o1, o2, o3, o4}\n",
    "\n",
    "max(x), min(y): a={o7, o8}, b={o1, o2, o5, o7, o8}\n",
    "\n",
    "maximize both:  a={o3, o4, o6, o8} b={o4, o6, o8}"
   ]
  },
  {
   "cell_type": "markdown",
   "metadata": {},
   "source": [
    "## Hybrid Algorithms\n",
    "### 4. Why can hybrid algorithms make it harder to maintain diversity?"
   ]
  },
  {
   "cell_type": "markdown",
   "metadata": {},
   "source": [
    "# Add your solution here\n",
    "Hybrid algorithms are evolutionary algorithms that are amended by some other machine learning method in some way, typically to optimize it for a certain kind of problem. This applies knowledge of the problem, and can limit the explored space to the space that is already known about"
   ]
  },
  {
   "cell_type": "markdown",
   "metadata": {},
   "source": [
    "## Applying Evolutionary Algorithms\n",
    "\n",
    "### 5. Drone Example\n",
    "Consider the following problem of designing a drone body with the goal of flying as fast as possible. Down below is a simple example of the drone body and some characteristics of the body that could be used. We want to solve this using an Evolutionary Algorithm. Write down some ways of solving the following points of the problem. (No code needed, just explain your choices)\n",
    "\n",
    "1. Fitness function for evaluating?\n",
    "2. What representation to use?\n",
    "3. Mutation, Crossovers\n",
    "4. Parent selection and survivor selection\n",
    "5. End condition\n",
    "![drone_problem](drone.png)"
   ]
  },
  {
   "cell_type": "markdown",
   "metadata": {},
   "source": [
    "# Add your solution here\n",
    "1: Drive the drone for a bit (a set amount of time) and see how fast it gets\n",
    "\n",
    "2: 4-length set of floats\n",
    "\n",
    "3: Arithmetic crossover, or a binary crossover that randomly chooses each gene from a random parent\n",
    "\n",
    "4: Tournament is decent enough, reduces variance in selection. Combined with elitism ensures that the best solutions are kept\n",
    "\n",
    "5: End condition. When drones are fast enough (as judged by whosoever is running this program) or on sufficient stagnation in the algorithm (no further improvements seem to be made)"
   ]
  }
 ],
 "metadata": {
  "kernelspec": {
   "display_name": "Python 3",
   "language": "python",
   "name": "python3"
  },
  "language_info": {
   "codemirror_mode": {
    "name": "ipython",
    "version": 3
   },
   "file_extension": ".py",
   "mimetype": "text/x-python",
   "name": "python",
   "nbconvert_exporter": "python",
   "pygments_lexer": "ipython3",
   "version": "3.7.4"
  }
 },
 "nbformat": 4,
 "nbformat_minor": 2
}
