{
 "cells": [
  {
   "cell_type": "markdown",
   "metadata": {},
   "source": [
    "# Week 07: Linear and logistic regression\n",
    "### Introduction\n",
    "\n",
    "This week, we will get some first-hand experience with regression.\n",
    "We will implement gradient descent for linear regression. Then we will proceed to classification, first by using linear regression and then logistic regression."
   ]
  },
  {
   "cell_type": "code",
   "execution_count": 1,
   "metadata": {},
   "outputs": [],
   "source": [
    "import numpy as np\n",
    "import matplotlib.pyplot as plt\n",
    "import sklearn"
   ]
  },
  {
   "cell_type": "markdown",
   "metadata": {},
   "source": [
    "## NumPy\n",
    "We will first familiarize ourselves a little with NumPy. A function which we will use over again is `linspace(x1,x2,N)` which makes a vector of length $N$ splitting the interval $[x1,x2]$ into equally sized intervals."
   ]
  },
  {
   "cell_type": "code",
   "execution_count": 2,
   "metadata": {},
   "outputs": [
    {
     "data": {
      "text/plain": [
       "array([-5.        , -4.8989899 , -4.7979798 , -4.6969697 , -4.5959596 ,\n",
       "       -4.49494949, -4.39393939, -4.29292929, -4.19191919, -4.09090909])"
      ]
     },
     "execution_count": 2,
     "metadata": {},
     "output_type": "execute_result"
    }
   ],
   "source": [
    "x = np.linspace(-5,5,100)\n",
    "x[:10]"
   ]
  },
  {
   "cell_type": "markdown",
   "metadata": {},
   "source": [
    "One of the major improvements from using NumPy is the possibilty of computing many values by applying a function to a numpy array."
   ]
  },
  {
   "cell_type": "code",
   "execution_count": 3,
   "metadata": {},
   "outputs": [],
   "source": [
    "y1 = -6*x**3 + x**2 -3*x + 5"
   ]
  },
  {
   "cell_type": "markdown",
   "metadata": {},
   "source": [
    "`y1`will contain the corresponding function values for each element `x`in `xx`. We may plot the result."
   ]
  },
  {
   "cell_type": "code",
   "execution_count": 4,
   "metadata": {},
   "outputs": [
    {
     "data": {
      "text/plain": [
       "[<matplotlib.lines.Line2D at 0x1fe00fef4e0>]"
      ]
     },
     "execution_count": 4,
     "metadata": {},
     "output_type": "execute_result"
    },
    {
     "data": {
      "image/png": "[encoded data removed]",
      "text/plain": [
       "<Figure size 432x288 with 1 Axes>"
      ]
     },
     "metadata": {
      "needs_background": "light"
     },
     "output_type": "display_data"
    }
   ],
   "source": [
    "plt.plot(x,y1)"
   ]
  },
  {
   "cell_type": "markdown",
   "metadata": {},
   "source": [
    "## Dataset for linear regression\n",
    "We will start with a smooth curve and add some \"noise\". The underlying idea is that the smooth curve represents the function we are looking for, and that this is the best we can hope to learn. A solution which does better  on the training material than the smooth curve is probably overfit and will not generalize as well to new data as the smooth curve. We are using a normal distribution to generate noise. The numpy function `normal` will generate a vector of `size` many random points around `loc` from a distribution with standard deviation `scale`."
   ]
  },
  {
   "cell_type": "code",
   "execution_count": 5,
   "metadata": {},
   "outputs": [
    {
     "data": {
      "text/plain": [
       "<matplotlib.collections.PathCollection at 0x1fe0131c080>"
      ]
     },
     "execution_count": 5,
     "metadata": {},
     "output_type": "execute_result"
    },
    {
     "data": {
      "image/png": "[encoded data removed]",
      "text/plain": [
       "<Figure size 432x288 with 1 Axes>"
      ]
     },
     "metadata": {
      "needs_background": "light"
     },
     "output_type": "display_data"
    }
   ],
   "source": [
    "from numpy.random import normal\n",
    "t = y1 + normal(loc=0, scale=50, size=100)\n",
    "plt.scatter(x, t)"
   ]
  },
  {
   "cell_type": "markdown",
   "metadata": {},
   "source": [
    "Our training data now consists of pairs (xx[i], t[i]), where xx[i] is the datapoint and t[i] the target value. So far, both `xx` and `t` are vectors. Check their shapes, e.g., `xx.shape`. The goal is to make an implementation for linear regression which works with an arbitrary number of input variables and not just one. We will therefore transform `xx` to a matrix of dimension $M\\times n$ where each row represents one datapoint, and n is the number of input variables (or features). Check the shape of `X` after the transform."
   ]
  },
  {
   "cell_type": "code",
   "execution_count": 6,
   "metadata": {},
   "outputs": [
    {
     "name": "stdout",
     "output_type": "stream",
     "text": [
      "Before reshape: (100,)\n",
      "After reshape:  (100, 1)\n"
     ]
    }
   ],
   "source": [
    "X = x.reshape(-1,1)\n",
    "print(f\"Before reshape: {x.shape}\")\n",
    "print(f\"After reshape:  {X.shape}\")"
   ]
  },
  {
   "cell_type": "markdown",
   "metadata": {},
   "source": [
    "## Part A: Linear regression\n",
    "\n",
    "We will implement our own linear regression model. Our aim is to find an approximate function that fits the data generated above."
   ]
  },
  {
   "cell_type": "markdown",
   "metadata": {},
   "source": [
    "Since we are dealing with only one input variable, we start with a simple linear function, $f(x_1) = w_0 + w_1x_1$."
   ]
  },
  {
   "cell_type": "markdown",
   "metadata": {},
   "source": [
    "### Exercise 1: MSE\n",
    "\n",
    "We wonder if our $f$ fits the data well, and what parameters will give us the best approximation. We will estimate this using the Mean Squared Error:\n",
    "\n",
    "$\\frac{1}{N} \\sum_{j=1}^{N} (t_j - \\sum_{i=0}^{m} w_ix_{ji})^2$\n",
    "\n",
    "Write a function calculating MSE of our approximation."
   ]
  },
  {
   "cell_type": "code",
   "execution_count": 7,
   "metadata": {},
   "outputs": [],
   "source": [
    "# Your code here\n",
    "\n",
    "def MSE(y_true, y_pred):\n",
    "    # error = y_true - y_pred\n",
    "    # square_error = error**2\n",
    "    # mean_square_error = square_error.mean()\n",
    "    # return mean_square_error\n",
    "    return ((y_true - y_pred)**2).mean()"
   ]
  },
  {
   "cell_type": "markdown",
   "metadata": {},
   "source": [
    "### Exercise 2: Testing the MSE\n",
    "To test our implementation, we can take the function $f(x_1)=0$ as a baseline and calculate the MSE for this $f$. Also calculate the Root Means Square Error which provides a more natural measure for how good the fit is."
   ]
  },
  {
   "cell_type": "code",
   "execution_count": 8,
   "metadata": {},
   "outputs": [
    {
     "name": "stdout",
     "output_type": "stream",
     "text": [
      "MSE:  8.501683501683502\n",
      "RMSE: 2.9157646512850626\n"
     ]
    }
   ],
   "source": [
    "hypothesis = np.zeros(x.shape[0])\n",
    "error = MSE(hypothesis, x)\n",
    "\n",
    "print(f\"MSE:  {error}\")\n",
    "print(f\"RMSE: {np.sqrt(error)}\")"
   ]
  },
  {
   "cell_type": "markdown",
   "metadata": {},
   "source": [
    "### Exercise 3: Adding bias"
   ]
  },
  {
   "cell_type": "markdown",
   "metadata": {},
   "source": [
    "We will implement linear regression with gradient descent and test it on the data. To make it simple, we will add a $x_0=1$ to all our datapoints, and consider $f(x_1) = w_0 + w_1x_1$ as $f(x_0, x_1) = w_0x_0+ w_1x_1$. Make a procedure that does this."
   ]
  },
  {
   "cell_type": "code",
   "execution_count": 9,
   "metadata": {},
   "outputs": [],
   "source": [
    "def add_bias(X):\n",
    "    \"\"\"X is a Nxm matrix: N datapoints, m features\n",
    "    Return a Nx(m+1) matrix with added bias in position zero\"\"\"\n",
    "\n",
    "    bias = np.ones((X.shape[0], 1)) # Give it a second axis to align the concatenation\n",
    "    return np.concatenate((bias, X), axis=1)"
   ]
  },
  {
   "cell_type": "markdown",
   "metadata": {},
   "source": [
    "### Exrcise 4: Gradient Descent\n",
    "We will implement the linear regression in a class as we did with the classifiers earlier. The fit method will run the gradient descent step a number of times to train the classifier. The predict method should take a matrix containing several data points and predict the outcome for all of them. Fill in the methods.\n",
    "\n",
    "Assume that the matrix of training data are not extended with bias features. Hence, make adding bias a part of your methods.\n",
    "\n",
    "After training there should be an attribute with learned coeffecients (weights) which is applied by the predict method.\n"
   ]
  },
  {
   "cell_type": "code",
   "execution_count": 10,
   "metadata": {},
   "outputs": [],
   "source": [
    "class LinReg():\n",
    "\n",
    "    def fit(self, X_train, t_train, eta = 0.1, epochs=10):\n",
    "        \"\"\"X_train is a Nxm matrix, N data points, m features\n",
    "        t_train are the targets values for training data\"\"\"\n",
    "\n",
    "        X = add_bias(X_train)\n",
    "        N, m = X.shape\n",
    "\n",
    "        self.weights = np.zeros(m)\n",
    "\n",
    "        for _ in range(epochs):\n",
    "            self.weights -= eta/N * X.T @ (X @ self.weights - t_train)\n",
    "        \n",
    "    \n",
    "    def predict(self, X):\n",
    "        \"\"\"X is a Kxm matrix for some K>=1\n",
    "        predict the value for each point in X\"\"\"\n",
    "        return add_bias(X) @ self.weights\n",
    "\n",
    "\n",
    "    def get_weights(self):\n",
    "        return self.weights\n"
   ]
  },
  {
   "cell_type": "markdown",
   "metadata": {},
   "source": [
    "### Exercise 5: Train and test the model\n",
    "Fit the model to the training data. Report the coefficients. Plot the line together with the observations. Calculate the RMSE. Is the result a better fit than the baseline constant function $f(x)=0$."
   ]
  },
  {
   "cell_type": "code",
   "execution_count": 11,
   "metadata": {},
   "outputs": [
    {
     "name": "stdout",
     "output_type": "stream",
     "text": [
      "weights: [ 18.51238059 -92.79079941]\n"
     ]
    }
   ],
   "source": [
    "reg = LinReg()\n",
    "reg.fit(X, t, eta = 0.1, epochs=100)\n",
    "print(f\"weights: {reg.get_weights()}\")"
   ]
  },
  {
   "cell_type": "code",
   "execution_count": 12,
   "metadata": {},
   "outputs": [
    {
     "data": {
      "image/png": "[encoded data removed]",
      "text/plain": [
       "<Figure size 432x288 with 1 Axes>"
      ]
     },
     "metadata": {
      "needs_background": "light"
     },
     "output_type": "display_data"
    }
   ],
   "source": [
    "plt.plot(X, reg.predict(X), color=\"red\", label=\"fit\")\n",
    "plt.plot((-5,5), (0,0), label=\"baseline\")\n",
    "plt.scatter(X, t, color=\"blue\", label=\"data\")\n",
    "plt.legend()\n",
    "plt.show()"
   ]
  },
  {
   "cell_type": "code",
   "execution_count": 13,
   "metadata": {},
   "outputs": [
    {
     "name": "stdout",
     "output_type": "stream",
     "text": [
      "MSE:  14654.838239123903\n",
      "RMSE: 121.05716930080557\n"
     ]
    }
   ],
   "source": [
    "error = MSE(t, reg.predict(X))\n",
    "print(f\"MSE:  {error}\")\n",
    "print(f\"RMSE: {np.sqrt(error)}\")\n"
   ]
  },
  {
   "cell_type": "markdown",
   "metadata": {},
   "source": [
    "## Dataset for classification\n",
    "We will use simple synthetic data similarly to week_05, but we will make the set a little bigger  to get more reliable results."
   ]
  },
  {
   "cell_type": "code",
   "execution_count": 14,
   "metadata": {},
   "outputs": [],
   "source": [
    "from sklearn.datasets import make_blobs\n",
    "X_train, y_train = make_blobs(n_samples=500, centers=[[0,0],[1,2]], \n",
    "                  n_features=2, random_state=2019)\n",
    "X_test, y_test = make_blobs(n_samples=500, centers=[[0,0],[1,2]], \n",
    "                  n_features=2, random_state=2020)"
   ]
  },
  {
   "cell_type": "code",
   "execution_count": 15,
   "metadata": {},
   "outputs": [],
   "source": [
    "def show(X, y, marker='.'):\n",
    "    labels = set(y)\n",
    "    for lab in labels:\n",
    "        plt.plot(X[y == lab][:, 1], X[y == lab][:, 0],\n",
    "                 marker, label=\"class {}\".format(lab))\n",
    "    plt.legend()"
   ]
  },
  {
   "cell_type": "code",
   "execution_count": 16,
   "metadata": {},
   "outputs": [
    {
     "data": {
      "image/png": "[encoded data removed]",
      "text/plain": [
       "<Figure size 432x288 with 1 Axes>"
      ]
     },
     "metadata": {
      "needs_background": "light"
     },
     "output_type": "display_data"
    }
   ],
   "source": [
    "show(X_train, y_train)"
   ]
  },
  {
   "cell_type": "markdown",
   "metadata": {},
   "source": [
    "## Linear Regression classifier\n",
    "This is also called Ridge Classifier in the literature when it is smoothed. We will consider the simple unsmoothed version here and return to smoothing and regularization in a later lecture."
   ]
  },
  {
   "cell_type": "code",
   "execution_count": 17,
   "metadata": {},
   "outputs": [],
   "source": [
    "class Classifier():\n",
    "\n",
    "    def accuracy(self, X_test, y_test):\n",
    "        y_pred = self.predict(X_test)\n",
    "\n",
    "        return (y_pred == y_test).mean()\n"
   ]
  },
  {
   "cell_type": "markdown",
   "metadata": {},
   "source": [
    "### Exercise 6: Coding the classifier\n",
    "Make a linear regression classifier."
   ]
  },
  {
   "cell_type": "code",
   "execution_count": 18,
   "metadata": {},
   "outputs": [],
   "source": [
    "class LinReg(Classifier):\n",
    "    def fit(self, X_train, y_train, eta=0.1, epochs=10):\n",
    "\n",
    "        X = add_bias(X_train)\n",
    "        N, m = X.shape\n",
    "\n",
    "        self.weights = np.zeros(m)\n",
    "\n",
    "        for _ in range(epochs):\n",
    "            self.weights -= eta/N * X.T @ ((X@self.weights)-y_train)\n",
    "\n",
    "    # Add threshold\n",
    "    def predict(self, x, threshold=0.5):\n",
    "        return (add_bias(x) @ self.weights) > threshold\n",
    "\n",
    "\n"
   ]
  },
  {
   "cell_type": "markdown",
   "metadata": {},
   "source": [
    "### Exercise 7: Experiment\n",
    "We will conduct repeated testing. We therefore need a development test set different from the final test set. Make such a set X_dev, y_dev, similarly to X_test, y_test using random_state=2021. Train the classfier on X_train, y_train and test for accuracy on X_dev, y_dev."
   ]
  },
  {
   "cell_type": "code",
   "execution_count": null,
   "metadata": {},
   "outputs": [],
   "source": []
  },
  {
   "cell_type": "code",
   "execution_count": 19,
   "metadata": {},
   "outputs": [
    {
     "name": "stdout",
     "output_type": "stream",
     "text": [
      "0.864\n"
     ]
    }
   ],
   "source": [
    "from sklearn.datasets import make_blobs\n",
    "X_dev, y_dev = make_blobs(n_samples=500, centers=[[0,0],[1,2]], \n",
    "                n_features=2, random_state=2021)\n",
    "\n",
    "classifier = LinReg()\n",
    "classifier.fit(X_train, y_train)\n",
    "print(classifier.accuracy(X_dev, y_dev))"
   ]
  },
  {
   "cell_type": "markdown",
   "metadata": {},
   "source": [
    "## Logistic Regression"
   ]
  },
  {
   "cell_type": "markdown",
   "metadata": {},
   "source": [
    "### Exercise 8: The logistic function\n",
    "Implement the logistic function. Sometimes called only the sigmoid."
   ]
  },
  {
   "cell_type": "code",
   "execution_count": 20,
   "metadata": {},
   "outputs": [],
   "source": [
    "def logistic(x):\n",
    "    return 1/(1+np.exp(-x))"
   ]
  },
  {
   "cell_type": "markdown",
   "metadata": {},
   "source": [
    "### Exercise 9: Code for the classifier\n",
    "Write code for the logistic regression classifier. Compared to linear regression classifier you have to make adaptions to both fit and predict taking the logistic into consideration\n"
   ]
  },
  {
   "cell_type": "code",
   "execution_count": 21,
   "metadata": {},
   "outputs": [],
   "source": [
    "class LogReg(Classifier):\n",
    "    def forward(self, X):\n",
    "        return logistic(X @ self.weights)\n",
    "\n",
    "    def fit(self, X_train, y_train, eta=0.1, epochs=10):\n",
    "\n",
    "        X = add_bias(X_train)\n",
    "        N, m = X.shape\n",
    "\n",
    "        self.weights = np.zeros(m)\n",
    "\n",
    "        for _ in range(epochs):\n",
    "            self.weights -= eta/N * X.T @ (self.forward(X)-y_train)\n",
    "\n",
    "    # Add threshold\n",
    "    def predict(self, x, threshold=0.5):\n",
    "        X = add_bias(x)\n",
    "        return self.forward(X) > threshold\n",
    "\n",
    "\n"
   ]
  },
  {
   "cell_type": "markdown",
   "metadata": {},
   "source": [
    "### Exercise 10: Initial experiments\n",
    "Train the classfier on X_train, y_train and test for accuracy on X_dev, y_dev."
   ]
  },
  {
   "cell_type": "code",
   "execution_count": 22,
   "metadata": {},
   "outputs": [
    {
     "name": "stdout",
     "output_type": "stream",
     "text": [
      "0.752\n"
     ]
    }
   ],
   "source": [
    "classifier = LogReg()\n",
    "classifier.fit(X_train, y_train)\n",
    "print(classifier.accuracy(X_dev, y_dev))"
   ]
  },
  {
   "cell_type": "markdown",
   "metadata": {},
   "source": [
    "### Exercise 11: Repeated experimentation\n",
    "Did you get better results than with the linear regression classifier? That does not necessary have to be the case for this data set. But, if your result is much inferior to the linear regression classifier, the reason might be the parameter settings. Experiment with the parameter values for the learning rate and the number of epochs to get an optimal result."
   ]
  },
  {
   "cell_type": "code",
   "execution_count": 23,
   "metadata": {},
   "outputs": [
    {
     "name": "stdout",
     "output_type": "stream",
     "text": [
      "Learning rate:  0.01, Epochs:       1, Accuracy: 0.74\n",
      "Learning rate:  0.05, Epochs:       1, Accuracy: 0.74\n",
      "Learning rate:   0.1, Epochs:       1, Accuracy: 0.74\n",
      "Learning rate:   0.2, Epochs:       1, Accuracy: 0.74\n",
      "Learning rate:   0.5, Epochs:       1, Accuracy: 0.74\n",
      "Learning rate:  0.01, Epochs:       2, Accuracy: 0.74\n",
      "Learning rate:  0.05, Epochs:       2, Accuracy: 0.74\n",
      "Learning rate:   0.1, Epochs:       2, Accuracy: 0.742\n",
      "Learning rate:   0.2, Epochs:       2, Accuracy: 0.746\n",
      "Learning rate:   0.5, Epochs:       2, Accuracy: 0.746\n",
      "Learning rate:  0.01, Epochs:       5, Accuracy: 0.74\n",
      "Learning rate:  0.05, Epochs:       5, Accuracy: 0.746\n",
      "Learning rate:   0.1, Epochs:       5, Accuracy: 0.744\n",
      "Learning rate:   0.2, Epochs:       5, Accuracy: 0.752\n",
      "Learning rate:   0.5, Epochs:       5, Accuracy: 0.794\n",
      "Learning rate:  0.01, Epochs:      10, Accuracy: 0.742\n",
      "Learning rate:  0.05, Epochs:      10, Accuracy: 0.744\n",
      "Learning rate:   0.1, Epochs:      10, Accuracy: 0.752\n",
      "Learning rate:   0.2, Epochs:      10, Accuracy: 0.784\n",
      "Learning rate:   0.5, Epochs:      10, Accuracy: 0.818\n",
      "Learning rate:  0.01, Epochs:      50, Accuracy: 0.744\n",
      "Learning rate:  0.05, Epochs:      50, Accuracy: 0.796\n",
      "Learning rate:   0.1, Epochs:      50, Accuracy: 0.818\n",
      "Learning rate:   0.2, Epochs:      50, Accuracy: 0.842\n",
      "Learning rate:   0.5, Epochs:      50, Accuracy: 0.87\n",
      "Learning rate:  0.01, Epochs:     100, Accuracy: 0.76\n",
      "Learning rate:  0.05, Epochs:     100, Accuracy: 0.818\n",
      "Learning rate:   0.1, Epochs:     100, Accuracy: 0.842\n",
      "Learning rate:   0.2, Epochs:     100, Accuracy: 0.858\n",
      "Learning rate:   0.5, Epochs:     100, Accuracy: 0.868\n",
      "Learning rate:  0.01, Epochs:    1000, Accuracy: 0.842\n",
      "Learning rate:  0.05, Epochs:    1000, Accuracy: 0.868\n",
      "Learning rate:   0.1, Epochs:    1000, Accuracy: 0.87\n",
      "Learning rate:   0.2, Epochs:    1000, Accuracy: 0.874\n",
      "Learning rate:   0.5, Epochs:    1000, Accuracy: 0.874\n"
     ]
    }
   ],
   "source": [
    "for epochs in [1, 2, 5, 10, 50, 100, 1000]:\n",
    "    for rate in [0.01, 0.05, 0.1, 0.2, 0.5]:\n",
    "        log_classifier = LogReg()\n",
    "        log_classifier.fit(X_train, y_train, epochs = epochs, eta = rate)\n",
    "        print(\"Learning rate: {:5}, Epochs: {:7}, Accuracy: {}\".format(\n",
    "            rate, epochs, log_classifier.accuracy(X_dev, y_dev)\n",
    "            ))"
   ]
  },
  {
   "cell_type": "markdown",
   "metadata": {},
   "source": [
    "## End of week 07"
   ]
  }
 ],
 "metadata": {
  "kernelspec": {
   "display_name": "Python 3",
   "language": "python",
   "name": "python3"
  },
  "language_info": {
   "codemirror_mode": {
    "name": "ipython",
    "version": 3
   },
   "file_extension": ".py",
   "mimetype": "text/x-python",
   "name": "python",
   "nbconvert_exporter": "python",
   "pygments_lexer": "ipython3",
   "version": "3.8.3"
  }
 },
 "nbformat": 4,
 "nbformat_minor": 2
}
