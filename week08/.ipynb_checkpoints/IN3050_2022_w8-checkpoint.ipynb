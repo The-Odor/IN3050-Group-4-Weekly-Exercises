{
 "cells": [
  {
   "cell_type": "markdown",
   "metadata": {},
   "source": [
    "# Week 08: Scaling and polynomial features\n",
    "### Introduction\n",
    "\n",
    "In this set 8, we will not introduce new learning algorithms, but instead consider two useful tools for machine learning:\n",
    "\n",
    "- Feature scaling\n",
    "- Feature engineering: Polynomial features\n",
    "\n",
    "To make it simple, we consider both of them in the context of (enhanced) linear regression. You should keep in mind, however, that\n",
    "\n",
    "- They are equally relevant to classification as to regression.\n",
    "- Feature scaling applies in similar ways to all learners using gradient descent.\n",
    "- Polynomial features may be added to any linear learners.\n",
    "\n",
    "To keep things even simpler, we will reuse a data set and some of the classes and methods we introduced in the exercise set week 07. We have therefore included the first half of the exercise set from week 07 here. What is new, comes from part B, below."
   ]
  },
  {
   "cell_type": "markdown",
   "metadata": {},
   "source": [
    "## From week 7: Linear and logistic regression\n",
    "### Introduction\n",
    "\n",
    "This week, we will get some first-hand experience with regression.\n",
    "We will implement gradient descent for linear regression. Then we will proceed to classification, first by using linear regression and then logistic regression."
   ]
  },
  {
   "cell_type": "code",
   "execution_count": 80,
   "metadata": {},
   "outputs": [],
   "source": [
    "import numpy as np\n",
    "import matplotlib.pyplot as plt\n",
    "import sklearn"
   ]
  },
  {
   "cell_type": "markdown",
   "metadata": {},
   "source": [
    "## NumPy\n",
    "We will first familiarize ourselves a little with NumPy. A function which we will use over again is `linspace(x1,x2,N)` which makes a vector of length $N$ splitting the interval $[x1,x2]$ into equally sized intervals."
   ]
  },
  {
   "cell_type": "code",
   "execution_count": 81,
   "metadata": {},
   "outputs": [
    {
     "data": {
      "text/plain": [
       "array([-5.        , -4.8989899 , -4.7979798 , -4.6969697 , -4.5959596 ,\n",
       "       -4.49494949, -4.39393939, -4.29292929, -4.19191919, -4.09090909])"
      ]
     },
     "execution_count": 81,
     "metadata": {},
     "output_type": "execute_result"
    }
   ],
   "source": [
    "xx = np.linspace(-5,5,100)\n",
    "xx[:10]"
   ]
  },
  {
   "cell_type": "markdown",
   "metadata": {},
   "source": [
    "One of the major improvements from using NumPy is the possibilty of computing many values by applying a function to a numpy array."
   ]
  },
  {
   "cell_type": "code",
   "execution_count": 82,
   "metadata": {},
   "outputs": [],
   "source": [
    "y1 = -6*xx**3 + xx**2 -3*xx + 5"
   ]
  },
  {
   "cell_type": "markdown",
   "metadata": {},
   "source": [
    "`y1`will contain the corresponding function values for each element `x`in `xx`. We may plot the result."
   ]
  },
  {
   "cell_type": "code",
   "execution_count": 83,
   "metadata": {},
   "outputs": [
    {
     "data": {
      "text/plain": [
       "[<matplotlib.lines.Line2D at 0x27f699d0708>]"
      ]
     },
     "execution_count": 83,
     "metadata": {},
     "output_type": "execute_result"
    },
    {
     "data": {
      "image/png": "[encoded data removed]",
      "text/plain": [
       "<Figure size 432x288 with 1 Axes>"
      ]
     },
     "metadata": {
      "needs_background": "light"
     },
     "output_type": "display_data"
    }
   ],
   "source": [
    "plt.plot(xx,y1)"
   ]
  },
  {
   "cell_type": "markdown",
   "metadata": {},
   "source": [
    "## Dataset for linear regression\n",
    "We will start with a smooth curve and add some \"noise\". The underlying idea is that the smooth curve represents the function we are looking for, and that this is the best we can hope to learn. A solution which does better  on the training material than the smooth curve is probably overfitted and will not generalize as well to new data as the smooth curve. We are using a normal distribution to generate noise. The numpy function `normal` will generate a vector of `size` many random points around `loc` from a distribution with standard deviation `scale`."
   ]
  },
  {
   "cell_type": "code",
   "execution_count": 84,
   "metadata": {},
   "outputs": [
    {
     "data": {
      "text/plain": [
       "<matplotlib.collections.PathCollection at 0x27f69a4e0c8>"
      ]
     },
     "execution_count": 84,
     "metadata": {},
     "output_type": "execute_result"
    },
    {
     "data": {
      "image/png": "[encoded data removed]",
      "text/plain": [
       "<Figure size 432x288 with 1 Axes>"
      ]
     },
     "metadata": {
      "needs_background": "light"
     },
     "output_type": "display_data"
    }
   ],
   "source": [
    "from numpy.random import normal\n",
    "t = y1 + normal(loc=0, scale=50, size=100)\n",
    "plt.scatter(xx, t)"
   ]
  },
  {
   "cell_type": "markdown",
   "metadata": {},
   "source": [
    "Our training data now consist of pairs (xx[i], t[i]), where xx[i] is the datapoint and t[i] the target value. So far, both `xx` and `t` are vectors. Check their shapes, e.g., `xx.shape`. The goal is to make an implementation for linear regression which works with an arbitrary number of input variables and not just one. We will therefore transform `xx` to a matrix of dimension $M\\times n$ where each row represents one datapoint, and n is the number of input variables (or features). Check the shape of `X` after the transform."
   ]
  },
  {
   "cell_type": "code",
   "execution_count": 85,
   "metadata": {},
   "outputs": [],
   "source": [
    "X = xx.reshape(-1,1)"
   ]
  },
  {
   "cell_type": "markdown",
   "metadata": {},
   "source": [
    "#### Solution"
   ]
  },
  {
   "cell_type": "code",
   "execution_count": 86,
   "metadata": {},
   "outputs": [
    {
     "data": {
      "text/plain": [
       "(100,)"
      ]
     },
     "execution_count": 86,
     "metadata": {},
     "output_type": "execute_result"
    }
   ],
   "source": [
    "xx.shape"
   ]
  },
  {
   "cell_type": "code",
   "execution_count": 87,
   "metadata": {},
   "outputs": [
    {
     "data": {
      "text/plain": [
       "(100, 1)"
      ]
     },
     "execution_count": 87,
     "metadata": {},
     "output_type": "execute_result"
    }
   ],
   "source": [
    "X.shape"
   ]
  },
  {
   "cell_type": "markdown",
   "metadata": {},
   "source": [
    "#### End of solution"
   ]
  },
  {
   "cell_type": "markdown",
   "metadata": {},
   "source": [
    "## Part A: Linear regression\n",
    "\n",
    "We will implement our own linear regression model. Our aim is to find an approximate function that fits the data generated above."
   ]
  },
  {
   "cell_type": "markdown",
   "metadata": {},
   "source": [
    "Since we are dealing with only one input variable, we start with a simple linear function, $f(x_1) = w_0 + w_1x_1$."
   ]
  },
  {
   "cell_type": "markdown",
   "metadata": {},
   "source": [
    "### Exercise 7.1: MSE\n",
    "\n",
    "We wonder if our $f$ fits the data well, and what parameters will give us the best approximation. We will estimate this using the Mean Squared Error:\n",
    "\n",
    "$\\frac{1}{N} \\sum_{j=1}^{N} (t_j - \\sum_{i=0}^{m} w_ix_{ji})^2$\n",
    "\n",
    "Write a function calculating MSE of our approximation."
   ]
  },
  {
   "cell_type": "code",
   "execution_count": 88,
   "metadata": {},
   "outputs": [],
   "source": [
    "# Your code here"
   ]
  },
  {
   "cell_type": "markdown",
   "metadata": {},
   "source": [
    "#### solution"
   ]
  },
  {
   "cell_type": "code",
   "execution_count": 89,
   "metadata": {},
   "outputs": [],
   "source": [
    "def mse(y, y_pred):\n",
    "    sum_errors = 0.\n",
    "    for i in range(0,len(y)):\n",
    "        sum_errors += (y[i] - y_pred[i])**2\n",
    "    mean_squared_error = sum_errors/len(y)\n",
    "    return mean_squared_error"
   ]
  },
  {
   "cell_type": "code",
   "execution_count": 90,
   "metadata": {},
   "outputs": [],
   "source": [
    "# Vector form solution\n",
    "def mse_2(x,y):\n",
    "    return sum((x - y)**2) /x.shape[0]"
   ]
  },
  {
   "cell_type": "markdown",
   "metadata": {},
   "source": [
    "#### end of solution"
   ]
  },
  {
   "cell_type": "markdown",
   "metadata": {},
   "source": [
    "### Exercise 7.2: testing the MSE\n",
    "To test our implementation, we can take the function $f(x_1)=0$ as a baseline and calculate the MSE for this $f$. Also calculate the Root Means Square Error which provides a more natural measure for how good the fit is."
   ]
  },
  {
   "cell_type": "markdown",
   "metadata": {},
   "source": [
    "#### solution"
   ]
  },
  {
   "cell_type": "code",
   "execution_count": 91,
   "metadata": {},
   "outputs": [
    {
     "name": "stdout",
     "output_type": "stream",
     "text": [
      "MSE:  96197.14231308857\n"
     ]
    }
   ],
   "source": [
    "hypothesis = np.array([0 for x in xx])\n",
    "mse = mse_2(hypothesis, t)\n",
    "print(\"MSE: \", mse)"
   ]
  },
  {
   "cell_type": "code",
   "execution_count": 92,
   "metadata": {},
   "outputs": [
    {
     "name": "stdout",
     "output_type": "stream",
     "text": [
      "RMSE:  310.15664157500896\n"
     ]
    }
   ],
   "source": [
    "print(\"RMSE: \", np.sqrt(mse))"
   ]
  },
  {
   "cell_type": "markdown",
   "metadata": {},
   "source": [
    "#### end of solution"
   ]
  },
  {
   "cell_type": "markdown",
   "metadata": {},
   "source": [
    "### Exercise 7.3: Adding bias"
   ]
  },
  {
   "cell_type": "markdown",
   "metadata": {},
   "source": [
    "We will implement linear regression with gradient descent and test it on the data. To make it simple, we will add a $x_0=1$ to all our datapoints, and consider $f(x_1) = w_0 + w_1x_1$ as $f(x_0, x_1) = w_0x_0+ w_1x_1$. Make a procedure that does this."
   ]
  },
  {
   "cell_type": "code",
   "execution_count": 93,
   "metadata": {},
   "outputs": [],
   "source": [
    "def add_bias(X):\n",
    "    \"\"\"X is a Nxm matrix: N datapoints, m features\n",
    "    Return a Nx(m+1) matrix with added bias in position zero\"\"\"\n",
    "    pass"
   ]
  },
  {
   "cell_type": "markdown",
   "metadata": {},
   "source": [
    "#### solution"
   ]
  },
  {
   "cell_type": "code",
   "execution_count": 94,
   "metadata": {},
   "outputs": [],
   "source": [
    "def add_bias(X):\n",
    "    \"\"\"X is a Nxm matrix: N datapoints, m features\n",
    "    Return a Nx(m+1) matrix with added bias in position zero\"\"\"\n",
    "    sh = X.shape\n",
    "    m = sh[0]\n",
    "    bias = np.ones((m,1)) # Makes a m*1 matrix of 1-s\n",
    "    # Concatenate the column of bias in front of the columns of X.\n",
    "    return np.concatenate((bias, X), axis  = 1) "
   ]
  },
  {
   "cell_type": "markdown",
   "metadata": {},
   "source": [
    "#### end  of solution"
   ]
  },
  {
   "cell_type": "markdown",
   "metadata": {},
   "source": [
    "### Exrcise 7.4: Gradient Descent\n",
    "We will implement the linear regression in a class as we did with the classifiers earlier. The fit method will run the gradient descent step a number of times to train the classifier. The predict method should take a matrix containing several data points and predict the outcome for all of them. Fill in the methods.\n",
    "\n",
    "Assume that the matrix of training data are not extended with bias features. Hence, make adding bias a part of your methods.\n",
    "\n",
    "After training there should be an attribute with learned coeffecients (weights) which is applied by the predict method."
   ]
  },
  {
   "cell_type": "code",
   "execution_count": 95,
   "metadata": {},
   "outputs": [],
   "source": [
    "class NumpyLinReg():\n",
    "\n",
    "    def fit(self, X_train, t_train, eta = 0.1, epochs=10):\n",
    "        \"\"\"X_train is a Nxm matrix, N data points, m features\n",
    "        t_train are the targets values for training data\"\"\"\n",
    "        \n",
    "    \n",
    "    def predict(self, X):\n",
    "        \"\"\"X is a Kxm matrix for some K>=1\n",
    "        predict the value for each point in X\"\"\"\n",
    "        pass\n"
   ]
  },
  {
   "cell_type": "markdown",
   "metadata": {},
   "source": [
    "#### solution"
   ]
  },
  {
   "cell_type": "code",
   "execution_count": 96,
   "metadata": {},
   "outputs": [],
   "source": [
    "class NumpyLinReg():\n",
    "\n",
    "    def fit(self, X_train, t_train, eta = 0.1, epochs=10):\n",
    "        \"\"\"X_train is a Nxm matrix, N data points, m features\n",
    "        t_train are the targets values for training data\"\"\"\n",
    "        \n",
    "        (N, m) = X_train.shape\n",
    "        X_train = add_bias(X_train)\n",
    "        \n",
    "        self.weights = weights = np.zeros(m+1)\n",
    "        \n",
    "        for e in range(epochs):\n",
    "            weights -= eta / N *  X_train.T @ (X_train @ weights - t_train)      \n",
    "    \n",
    "    def predict(self, X):\n",
    "        \"\"\"X is a Kxm matrix for some K>=1\n",
    "        predict the value for each point in X\"\"\"\n",
    "        Z = add_bias(X)\n",
    "        return Z @ self.weights"
   ]
  },
  {
   "cell_type": "markdown",
   "metadata": {},
   "source": [
    "#### end of solution"
   ]
  },
  {
   "cell_type": "markdown",
   "metadata": {},
   "source": [
    "### Exercise 7.5: Train and test the model\n",
    "Fit the model to the training data. Report the coefficients. Plot the line together with the observations. Calculate the RMSE. Is the result a better fit than the baseline constant function $f(x)=0$?"
   ]
  },
  {
   "cell_type": "markdown",
   "metadata": {},
   "source": [
    "#### solution"
   ]
  },
  {
   "cell_type": "code",
   "execution_count": 97,
   "metadata": {},
   "outputs": [
    {
     "name": "stdout",
     "output_type": "stream",
     "text": [
      "The coefficients:  [ 16.55959545 -95.87130939]\n"
     ]
    }
   ],
   "source": [
    "reg = NumpyLinReg()\n",
    "reg.fit(X,t, epochs=100)\n",
    "print(\"The coefficients: \", reg.weights)"
   ]
  },
  {
   "cell_type": "code",
   "execution_count": 98,
   "metadata": {},
   "outputs": [
    {
     "data": {
      "text/plain": [
       "<matplotlib.collections.PathCollection at 0x27f69aad608>"
      ]
     },
     "execution_count": 98,
     "metadata": {},
     "output_type": "execute_result"
    },
    {
     "data": {
      "image/png": "[encoded data removed]",
      "text/plain": [
       "<Figure size 432x288 with 1 Axes>"
      ]
     },
     "metadata": {
      "needs_background": "light"
     },
     "output_type": "display_data"
    }
   ],
   "source": [
    "plt.plot(X, reg.weights[0]+reg.weights[1]*X, color=\"r\")\n",
    "plt.plot(X, [0 for i in X], 'g')\n",
    "\n",
    "# The generated dataset\n",
    "plt.scatter(X, t)"
   ]
  },
  {
   "cell_type": "code",
   "execution_count": 99,
   "metadata": {},
   "outputs": [
    {
     "name": "stdout",
     "output_type": "stream",
     "text": [
      "MSE:  17781.316273421737\n"
     ]
    }
   ],
   "source": [
    "error = mse_2(t, add_bias(X) @ reg.weights)\n",
    "print(\"MSE: \", error)"
   ]
  },
  {
   "cell_type": "code",
   "execution_count": 100,
   "metadata": {},
   "outputs": [
    {
     "name": "stdout",
     "output_type": "stream",
     "text": [
      "RMSE : 133.34660203177933\n"
     ]
    }
   ],
   "source": [
    "print(\"RMSE :\", np.sqrt(error))"
   ]
  },
  {
   "cell_type": "markdown",
   "metadata": {},
   "source": [
    "It has improved"
   ]
  },
  {
   "cell_type": "markdown",
   "metadata": {},
   "source": [
    "#### end of solution"
   ]
  },
  {
   "cell_type": "markdown",
   "metadata": {},
   "source": [
    "## End of week 07"
   ]
  },
  {
   "cell_type": "markdown",
   "metadata": {},
   "source": [
    "# Here starts the real set 8"
   ]
  },
  {
   "cell_type": "markdown",
   "metadata": {},
   "source": [
    "## Part B: Closed form solution"
   ]
  },
  {
   "cell_type": "markdown",
   "metadata": {},
   "source": [
    "(If you find this part difficult, you may skip it and move to the rest of the exercise set which does not depend on you doing this part.)\n",
    "\n",
    "We mentioned in the lectures that the linear regression problem has a closed-form solution. Say that we have a linear regression problem where we try to predict $y$ from $x_1, x_2, \\ldots,x_n$ by a linear formula  $f(\\mathbf{x})=w_0+w_1x_1+\\cdots+w_nx_n$ on the basis of $N$ observations of the form $(\\mathbf{x}_i, t_i)$.\n",
    "If we extend each observation with a bias $x_0=1$ and put the $\\mathbf{x}_i$-s into a \n",
    "$(N\\times(n+1))$ matrix, and the $t_i$-s into a $N\\times 1$ column matrix $Y$, as we have done above, then we can find the weights (coeffecients/parameters) with the formula\n",
    "$W =\\theta = (X^T X)^{-1}X^TY$.\n",
    " \n",
    "Some explanation to the formula. A square matrix $A$ is called the *identity matrix* if $A[i,i]=1$ for all $i$, and $A[i,j]=0$ if $i\\neq j$. We use $I$ as a name of this matrix. It is called the *identity matrix* because $AI=IA=A$ for all $A$.\n",
    "\n",
    "Given a square matrix $A$. If there exists a matrix $B$, such that $AB=BA=I$, we will say that $B$ is the *inverse* of $A$ and write this $B=A^{-1}$. Not all matrices have inverses.\n",
    "\n",
    "In NumPy, the function `np.linalg.inv(X)` yields the inverse of `X` if it exists.\n",
    "\n",
    "We wil not try to explain why the formula $\\theta = (X^T X)^{-1}X^TY$ yields the correct solution."
   ]
  },
  {
   "cell_type": "markdown",
   "metadata": {},
   "source": [
    "### Exercise 8.1: closed form solution\n",
    "Find the closed form solution to the dataset above and compare it to the solution you found by gradient descent."
   ]
  },
  {
   "cell_type": "code",
   "execution_count": 101,
   "metadata": {},
   "outputs": [
    {
     "name": "stdout",
     "output_type": "stream",
     "text": [
      "[ 16.56003531 -95.87130939]\n",
      "(100, 1)\n"
     ]
    }
   ],
   "source": [
    "X_bias = add_bias(X)\n",
    "\n",
    "theta = np.linalg.inv(X_bias.T@X_bias) @ (X_bias.T@t)\n",
    "\n",
    "print(theta)\n",
    "print(X.shape)"
   ]
  },
  {
   "cell_type": "markdown",
   "metadata": {},
   "source": [
    "## Part C: Scaling the data\n",
    "\n",
    "In the lectures, we mentioned the importance of scaling/normalizing/standardizing the data for the *k*NN algorithm. We will here consider why scaling is important for gradient descent-based algorithms. Let's see the effects of this on a practical example."
   ]
  },
  {
   "cell_type": "markdown",
   "metadata": {},
   "source": [
    "### Dataset\n",
    "\n",
    "First, we'll load a dataset with features that intentionally vary in scale. \"ex1data2.txt\" (https://github.com/nex3z/machine-learning-exercise) is a dataset of housing prices, including the size of the house (in square feet), the number of bedrooms, and the price of the house in dollars.\n",
    "\n",
    "For the record, 100 sqm is about the same as 1100 sq. feet."
   ]
  },
  {
   "cell_type": "code",
   "execution_count": 102,
   "metadata": {},
   "outputs": [],
   "source": [
    "data = np.array([\n",
    "    [2104,3,399900],\n",
    "    [1600,3,329900],\n",
    "    [2400,3,369000],\n",
    "    [1416,2,232000],\n",
    "    [3000,4,539900],\n",
    "    [1985,4,299900],\n",
    "    [1534,3,314900],\n",
    "    [1427,3,198999],\n",
    "    [1380,3,212000],\n",
    "    [1494,3,242500],\n",
    "    [1940,4,239999],\n",
    "    [2000,3,347000],\n",
    "    [1890,3,329999],\n",
    "    [4478,5,699900],\n",
    "    [1268,3,259900],\n",
    "    [2300,4,449900],\n",
    "    [1320,2,299900],\n",
    "    [1236,3,199900],\n",
    "    [2609,4,499998],\n",
    "    [3031,4,599000],\n",
    "    [1767,3,252900],\n",
    "    [1888,2,255000],\n",
    "    [1604,3,242900],\n",
    "    [1962,4,259900],\n",
    "    [3890,3,573900],\n",
    "    [1100,3,249900],\n",
    "    [1458,3,464500],\n",
    "    [2526,3,469000],\n",
    "    [2200,3,475000],\n",
    "    [2637,3,299900],\n",
    "    [1839,2,349900],\n",
    "    [1000,1,169900],\n",
    "    [2040,4,314900],\n",
    "    [3137,3,579900],\n",
    "    [1811,4,285900],\n",
    "    [1437,3,249900],\n",
    "    [1239,3,229900],\n",
    "    [2132,4,345000],\n",
    "    [4215,4,549000],\n",
    "    [2162,4,287000],\n",
    "    [1664,2,368500],\n",
    "    [2238,3,329900],\n",
    "    [2567,4,314000],\n",
    "    [1200,3,299000],\n",
    "    [852,2,179900],\n",
    "    [1852,4,299900],\n",
    "    [1203,3,239500],\n",
    "])"
   ]
  },
  {
   "cell_type": "code",
   "execution_count": 103,
   "metadata": {},
   "outputs": [
    {
     "name": "stdout",
     "output_type": "stream",
     "text": [
      "[[  2104      3 399900]\n",
      " [  1600      3 329900]\n",
      " [  2400      3 369000]\n",
      " [  1416      2 232000]\n",
      " [  3000      4 539900]\n",
      " [  1985      4 299900]\n",
      " [  1534      3 314900]\n",
      " [  1427      3 198999]\n",
      " [  1380      3 212000]\n",
      " [  1494      3 242500]\n",
      " [  1940      4 239999]\n",
      " [  2000      3 347000]\n",
      " [  1890      3 329999]\n",
      " [  4478      5 699900]\n",
      " [  1268      3 259900]\n",
      " [  2300      4 449900]\n",
      " [  1320      2 299900]\n",
      " [  1236      3 199900]\n",
      " [  2609      4 499998]\n",
      " [  3031      4 599000]\n",
      " [  1767      3 252900]\n",
      " [  1888      2 255000]\n",
      " [  1604      3 242900]\n",
      " [  1962      4 259900]\n",
      " [  3890      3 573900]\n",
      " [  1100      3 249900]\n",
      " [  1458      3 464500]\n",
      " [  2526      3 469000]\n",
      " [  2200      3 475000]\n",
      " [  2637      3 299900]\n",
      " [  1839      2 349900]\n",
      " [  1000      1 169900]\n",
      " [  2040      4 314900]\n",
      " [  3137      3 579900]\n",
      " [  1811      4 285900]\n",
      " [  1437      3 249900]\n",
      " [  1239      3 229900]\n",
      " [  2132      4 345000]\n",
      " [  4215      4 549000]\n",
      " [  2162      4 287000]\n",
      " [  1664      2 368500]\n",
      " [  2238      3 329900]\n",
      " [  2567      4 314000]\n",
      " [  1200      3 299000]\n",
      " [   852      2 179900]\n",
      " [  1852      4 299900]\n",
      " [  1203      3 239500]]\n",
      "(47, 3)\n"
     ]
    }
   ],
   "source": [
    "# data = np.loadtxt(open(\"ex1data2.txt\", \"r\"), delimiter=\",\")\n",
    "# lolno"
   ]
  },
  {
   "cell_type": "markdown",
   "metadata": {},
   "source": [
    "Let us inspect what the data looks like:"
   ]
  },
  {
   "cell_type": "code",
   "execution_count": 157,
   "metadata": {},
   "outputs": [
    {
     "data": {
      "image/png": "[encoded data removed]",
      "text/plain": [
       "<Figure size 432x288 with 1 Axes>"
      ]
     },
     "metadata": {
      "needs_background": "light"
     },
     "output_type": "display_data"
    }
   ],
   "source": [
    "data[:10,:]\n",
    "\n",
    "import matplotlib as mpl\n",
    "\n",
    "\n",
    "def colorFader(mix=0): # I stole this wholesale from StackOverflow: https://stackoverflow.com/questions/25668828/how-to-create-colour-gradient-in-python\n",
    "    c1=np.array(mpl.colors.to_rgb(\"green\")) # blue\n",
    "    c2=np.array(mpl.colors.to_rgb('red')) # green\n",
    "    return mpl.colors.to_hex((1-mix)*c1 + mix*c2)\n",
    "max_price = data[:,2].max()\n",
    "min_price = data[:,2].min()\n",
    "price_dif = max_price-min_price\n",
    "price2colour = lambda price: (price-min_price)/price_dif\n",
    "\n",
    "\n",
    "\n",
    "def prep_data_scatter():\n",
    "    for size, room_N, price in data:\n",
    "        plt.scatter(size, room_N, color=colorFader(price2colour(price)))\n",
    "    plt.xlabel(\"Area\")\n",
    "    plt.ylabel(\"Rooms\")\n",
    "\n",
    "prep_data_scatter()\n",
    "plt.show()"
   ]
  },
  {
   "cell_type": "markdown",
   "metadata": {},
   "source": [
    "The goal is to predict the price from the size and the number of bedrooms, so we start by splitting the input data from the target values."
   ]
  },
  {
   "cell_type": "code",
   "execution_count": 105,
   "metadata": {},
   "outputs": [],
   "source": [
    "X2 = data[:, 0:2]\n",
    "t2 = data[:, 2]"
   ]
  },
  {
   "cell_type": "markdown",
   "metadata": {},
   "source": [
    "### Exercise 8.2: Without scaling\n",
    "\n",
    "First, let's try to fit our NumpyLinReg to the data. Experiment with various training rates and number of epochs. Print the weights (coeffecients). Try to predict the price of a 3-bedroom 1500 sq. feet house. What do you see?"
   ]
  },
  {
   "cell_type": "code",
   "execution_count": 208,
   "metadata": {},
   "outputs": [
    {
     "name": "stdout",
     "output_type": "stream",
     "text": [
      "Price: [248075.29177198]\n",
      "Predicted price: [248075.29177198]\n"
     ]
    },
    {
     "data": {
      "image/png": "[encoded data removed]",
      "text/plain": [
       "<Figure size 432x288 with 1 Axes>"
      ]
     },
     "metadata": {
      "needs_background": "light"
     },
     "output_type": "display_data"
    }
   ],
   "source": [
    "X2_bias = add_bias(X2)\n",
    "\n",
    "area  = 1500\n",
    "rooms = 3\n",
    "house = np.array([1, area, rooms]).reshape(1,-1)\n",
    "\n",
    "# Prediction\n",
    "# theta = np.linalg.inv(X2_bias.T@X2_bias) @ (X2_bias.T@t2)\n",
    "# print(\"Theta:\", theta)\n",
    "# price = house@theta\n",
    "reg = NumpyLinReg()\n",
    "reg.fit(X2_bias,t2, eta=1e-7, epochs=100)\n",
    "price = reg.predict(house)\n",
    "\n",
    "print(\"Price:\", price)\n",
    "\n",
    "# Plotting\n",
    "print(\"Predicted price:\", price)\n",
    "plt.plot(area, rooms, \"X\", markersize=20, color=colorFader(price2colour(price)))\n",
    "prep_data_scatter()\n",
    "plt.show()"
   ]
  },
  {
   "cell_type": "markdown",
   "metadata": {},
   "source": [
    "### Exercises 8.3 & 8.4: Scaling\n",
    "\n",
    "The reason for our problems is the large difference in scale between our two input features -- 3 orders of magnitude. A good idea could be to scale the data before you start to experiment. Implement a max-min scaler and scale your data. By the way, it is only the input data `X2` which have to be scaled. It is normally not necessary to scale the output values `t2`/`y`."
   ]
  },
  {
   "cell_type": "code",
   "execution_count": 159,
   "metadata": {},
   "outputs": [
    {
     "name": "stdout",
     "output_type": "stream",
     "text": [
      "Scaled house: [[1.         0.17870932 0.5       ]]\n",
      "The coefficients:  [113144.45668243 113144.45668243 187815.96073239 104607.37222134]\n",
      "Predicted price: [312157.06239737]\n"
     ]
    },
    {
     "data": {
      "image/png": "[encoded data removed]",
      "text/plain": [
       "<Figure size 432x288 with 1 Axes>"
      ]
     },
     "metadata": {
      "needs_background": "light"
     },
     "output_type": "display_data"
    }
   ],
   "source": [
    "# Scaling\n",
    "max_vals = X2.max(axis=0)\n",
    "min_vals = X2.min(axis=0)\n",
    "dif_vals = max_vals - min_vals\n",
    "\n",
    "scaler = lambda X: (X - min_vals)/dif_vals\n",
    "\n",
    "X2_norm = scaler(X2)\n",
    "X2_norm = add_bias(X2_norm)\n",
    "\n",
    "area  = 1500\n",
    "rooms = 3\n",
    "house = np.array([area, rooms])\n",
    "house = scaler(house)\n",
    "house = np.array([1, *house]).reshape(1,-1)\n",
    "print(\"Scaled house:\", house)\n",
    "\n",
    "# Fitting and prediction\n",
    "reg = NumpyLinReg()\n",
    "reg.fit(X2_norm,t2, epochs=100)\n",
    "price = reg.predict(house)\n",
    "print(\"The coefficients: \", reg.weights)\n",
    "print(\"Predicted price:\", price)\n",
    "\n",
    "\n",
    "# Plotting\n",
    "plt.plot(area, rooms, \"X\", markersize=20, color=colorFader(price2colour(price)))\n",
    "prep_data_scatter()\n",
    "plt.show()"
   ]
  },
  {
   "cell_type": "markdown",
   "metadata": {},
   "source": [
    "### Exercise 8.4: With scaling\n",
    "Try to fit a linear regression to the scaled data. Experiment with various training rates and number of epochs. Print the weights (coeffecients). Try to predict the price of a 3-bedroom 1500 sq. feet house. How does this go compared to the experiments without scaling?"
   ]
  },
  {
   "cell_type": "markdown",
   "metadata": {},
   "source": [
    "## Part D: Polynomial features\n",
    "We return to our first dataset, (X,t) from exercise set week07. We tried to fit a straight line to our dataset. From the way the set was generated, we think we would get a better fit if we try to predict a polynomial. We will now try to fit a polynomial. One way of achieving this is to extend our dataset with more features corresponding to the polynomial.\n",
    "\n",
    "We can add features for $x^2$, $x^3$, $x^4$, $x^5$, etc. to the data set. Since the resulting features will have different scales, after adding the polynomial features, we should scale all the features (except the bias, of course). Then we can try to fit a linear expression (a hyperplane) to the data. "
   ]
  },
  {
   "cell_type": "markdown",
   "metadata": {},
   "source": [
    "### Exercise 8.5\n",
    "Add features for $x^2$ and $x^3$. Scale the data. Fit a linear regression model to the data. Calculate the MSE. Compare to the MSE for the linear model. Plot the polynomial together with the dataset."
   ]
  }
 ],
 "metadata": {
  "kernelspec": {
   "display_name": "Python 3",
   "language": "python",
   "name": "python3"
  },
  "language_info": {
   "codemirror_mode": {
    "name": "ipython",
    "version": 3
   },
   "file_extension": ".py",
   "mimetype": "text/x-python",
   "name": "python",
   "nbconvert_exporter": "python",
   "pygments_lexer": "ipython3",
   "version": "3.8.3"
  }
 },
 "nbformat": 4,
 "nbformat_minor": 2
}
